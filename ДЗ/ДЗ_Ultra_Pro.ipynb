{
  "cells": [
    {
      "cell_type": "markdown",
      "metadata": {
        "id": "OYZnPTVIcVCs"
      },
      "source": [
        "Используя базу данных автомобилей, создайте сеть с точностью распознавания не ниже 93% на проверочной выборке.\n",
        "\n",
        "Для решения задачи вы можете использовать любой подход:\n",
        "- модель без аугментации данных\n",
        "- аугментация данных с помощью ImageDataGenerator\n",
        "- аугментация данных с помощью самописного генератора изображений\n",
        "- использовать готовую архитектуру из набора `tf.keras.applications` (Обратите внимание: на занятии мы не рассматривали данный модуль фреймворка Керас. Ваша задача: попробовать самостоятельно разобраться в приципах его работы. В разборе домашнего задания вы получите ссылку на ноутбук Базы Знаний УИИ, где подробно раскрывается вопрос использования готовых архитектур)"
      ]
    },
    {
      "cell_type": "code",
      "execution_count": null,
      "metadata": {
        "id": "MyKHUNvVtEQR"
      },
      "outputs": [],
      "source": [
        "import os\n",
        "import zipfile\n",
        "from pathlib import Path\n",
        "\n",
        "import gdown\n",
        "import matplotlib.pyplot as plt\n",
        "import numpy as np\n",
        "import tensorflow as tf\n",
        "from sklearn.metrics import ConfusionMatrixDisplay, confusion_matrix\n",
        "from tensorflow.keras.applications import VGG19\n",
        "from tensorflow.keras.layers import ( Dense,\n",
        "                                     Dropout,  GlobalAveragePooling2D,\n",
        "                                     )\n",
        "from tensorflow.keras.models import Sequential\n",
        "from tensorflow.keras.optimizers import SGD, Adam\n",
        "from tensorflow.keras.preprocessing.image import ImageDataGenerator"
      ]
    },
    {
      "cell_type": "markdown",
      "metadata": {},
      "source": [
        "Функция для скачивания и распаковки архива"
      ]
    },
    {
      "cell_type": "code",
      "execution_count": null,
      "metadata": {},
      "outputs": [],
      "source": [
        "def download_and_extract(url, output_dir):\n",
        "    \"\"\"Скачивает и распаковывает архив с датасетом\"\"\"\n",
        "    # Создаем папку для данных, если ее нет\n",
        "    if not os.path.exists(output_dir):\n",
        "        os.makedirs(output_dir)\n",
        "    \n",
        "    # Путь для сохранения архива\n",
        "    zip_path = os.path.join(output_dir, 'dataset.zip')\n",
        "    \n",
        "    # Скачиваем архив\n",
        "    print(\"Скачивание архива...\")\n",
        "    gdown.download(url, zip_path, quiet=False)\n",
        "    \n",
        "    # Распаковываем архив\n",
        "    print(\"Распаковка архива...\")\n",
        "    with zipfile.ZipFile(zip_path, 'r') as zip_ref:\n",
        "        zip_ref.extractall(output_dir)\n",
        "    \n",
        "    # Удаляем архив\n",
        "    os.remove(zip_path)\n",
        "    print(\"Датасет готов к использованию\")"
      ]
    },
    {
      "cell_type": "markdown",
      "metadata": {},
      "source": [
        "Скачивание и распаковка архива"
      ]
    },
    {
      "cell_type": "code",
      "execution_count": null,
      "metadata": {},
      "outputs": [],
      "source": [
        "# Загрузка и распаковка архива\n",
        "download_and_extract('https://storage.yandexcloud.net/aiueducation/Content/base/l5/middle_fmr.zip', 'cars')"
      ]
    },
    {
      "cell_type": "markdown",
      "metadata": {},
      "source": [
        "Разделение выборки на train/val/test"
      ]
    },
    {
      "cell_type": "code",
      "execution_count": 3,
      "metadata": {
        "colab": {
          "base_uri": "https://localhost:8080/"
        },
        "id": "RH2EEC9WzxcF",
        "outputId": "bcc6398f-bc62-4927-8f2b-b9d30ceba35e"
      },
      "outputs": [
        {
          "name": "stdout",
          "output_type": "stream",
          "text": [
            "Found 2745 images belonging to 3 classes.\n",
            "Found 341 images belonging to 3 classes.\n",
            "Found 341 images belonging to 3 classes.\n",
            "Train class distribution: [872 929 944]\n",
            "Validation class distribution: [108 116 117]\n",
            "Test class distribution: [108 116 117]\n"
          ]
        }
      ],
      "source": [
        "# Разделение на train/val/test\n",
        "TEST_SPLIT = VAL_SPLIT = 0.1\n",
        "TRAIN_PATH = Path(\"cars/cars_train\")\n",
        "VAL_PATH = Path(\"cars/cars_val\")\n",
        "TEST_PATH = Path(\"cars/cars_test\")\n",
        "\n",
        "if not (TEST_PATH.exists() and VAL_PATH.exists()):\n",
        "    TEST_PATH.mkdir(exist_ok=True)\n",
        "    VAL_PATH.mkdir(exist_ok=True)\n",
        "\n",
        "    for classfolder in TRAIN_PATH.iterdir():\n",
        "        classfolder_test = TEST_PATH / classfolder.name\n",
        "        classfolder_val = VAL_PATH / classfolder.name\n",
        "\n",
        "        classfolder_test.mkdir(exist_ok=True)\n",
        "        classfolder_val.mkdir(exist_ok=True)\n",
        "\n",
        "        files = list(classfolder.iterdir())\n",
        "        len_class = len(files)\n",
        "        test_len = int(len_class * TEST_SPLIT)\n",
        "        val_len = int(len_class * VAL_SPLIT)\n",
        "\n",
        "        for i, img in enumerate(files):\n",
        "            if i < test_len:\n",
        "                img.rename(classfolder_test / img.name)\n",
        "            elif i < test_len + val_len:\n",
        "                img.rename(classfolder_val / img.name)\n",
        "            else:\n",
        "                break\n",
        "\n",
        "# Генераторы данных\n",
        "train_datagen = ImageDataGenerator(\n",
        "    rotation_range=15,\n",
        "    width_shift_range=0.1,\n",
        "    height_shift_range=0.05,\n",
        "    zoom_range=0.2,\n",
        "    brightness_range=(0.7, 1.3),\n",
        "    horizontal_flip=True,\n",
        "    rescale=1.0 / 255.0,\n",
        ")\n",
        "\n",
        "test_and_val_datagen = ImageDataGenerator(rescale=1.0 / 255.0)\n",
        "\n",
        "IMG_HEIGHT = 108\n",
        "IMG_WIDTH = 192\n",
        "BATCH_SIZE = 64\n",
        "\n",
        "train_generator = train_datagen.flow_from_directory(\n",
        "    TRAIN_PATH, target_size=(IMG_HEIGHT, IMG_WIDTH),\n",
        "    batch_size=BATCH_SIZE, class_mode=\"categorical\", shuffle=True\n",
        ")\n",
        "\n",
        "validation_generator = test_and_val_datagen.flow_from_directory(\n",
        "    VAL_PATH, target_size=(IMG_HEIGHT, IMG_WIDTH),\n",
        "    batch_size=BATCH_SIZE, class_mode=\"categorical\", shuffle=True\n",
        ")\n",
        "\n",
        "test_generator = test_and_val_datagen.flow_from_directory(\n",
        "    TEST_PATH, target_size=(IMG_HEIGHT, IMG_WIDTH),\n",
        "    batch_size=BATCH_SIZE, class_mode=\"categorical\", shuffle=False\n",
        ")\n",
        "\n",
        "print(\"Train class distribution:\", np.bincount(train_generator.classes))\n",
        "print(\"Validation class distribution:\", np.bincount(validation_generator.classes))\n",
        "print(\"Test class distribution:\", np.bincount(test_generator.classes))"
      ]
    },
    {
      "cell_type": "markdown",
      "metadata": {},
      "source": [
        "Вывод получившихся выборок"
      ]
    },
    {
      "cell_type": "code",
      "execution_count": 5,
      "metadata": {
        "colab": {
          "base_uri": "https://localhost:8080/"
        },
        "id": "fax7nVhg3vpb",
        "outputId": "221051b6-d725-4acb-df96-a33cc4ab5642"
      },
      "outputs": [
        {
          "name": "stdout",
          "output_type": "stream",
          "text": [
            "Train class distribution: [872 929 944]\n",
            "Validation class distribution: [108 116 117]\n",
            "Test class distribution: [108 116 117]\n"
          ]
        }
      ],
      "source": [
        "\n",
        "print(\"Train class distribution:\", np.bincount(train_generator.classes))\n",
        "print(\"Validation class distribution:\", np.bincount(validation_generator.classes))\n",
        "print(\"Test class distribution:\", np.bincount(test_generator.classes))"
      ]
    },
    {
      "cell_type": "markdown",
      "metadata": {},
      "source": [
        "Создание модели на базе VGG19"
      ]
    },
    {
      "cell_type": "code",
      "execution_count": 6,
      "metadata": {
        "colab": {
          "base_uri": "https://localhost:8080/"
        },
        "id": "iiuswEvTzXLE",
        "outputId": "251270ec-ad54-4f85-e9a4-89f6bac6ceb2"
      },
      "outputs": [
        {
          "name": "stdout",
          "output_type": "stream",
          "text": [
            "Downloading data from https://storage.googleapis.com/tensorflow/keras-applications/vgg19/vgg19_weights_tf_dim_ordering_tf_kernels_notop.h5\n",
            "\u001b[1m80134624/80134624\u001b[0m \u001b[32m━━━━━━━━━━━━━━━━━━━━\u001b[0m\u001b[37m\u001b[0m \u001b[1m4s\u001b[0m 0us/step\n"
          ]
        }
      ],
      "source": [
        "base_model = VGG19(\n",
        "        weights=\"imagenet\", include_top=False, input_shape=(IMG_HEIGHT, IMG_WIDTH, 3)\n",
        "    )\n",
        "\n",
        "for layer in base_model.layers:\n",
        "  layer.trainable = False\n",
        "\n",
        "\n",
        "for layer in base_model.layers[-5:]:\n",
        "  layer.trainable = True\n",
        "\n",
        "model = Sequential(\n",
        "        [\n",
        "            base_model,\n",
        "            GlobalAveragePooling2D(),\n",
        "            Dropout(0.6),\n",
        "            Dense(512, activation=\"relu\"),\n",
        "            Dropout(0.6),\n",
        "            Dense(3, activation=\"softmax\"),\n",
        "        ]\n",
        "    )\n",
        "\n",
        "model.compile(\n",
        "        optimizer=SGD(learning_rate=0.003, momentum=0.9),\n",
        "        loss=\"categorical_crossentropy\",\n",
        "        metrics=[\"accuracy\"],\n",
        "    )"
      ]
    },
    {
      "cell_type": "markdown",
      "metadata": {},
      "source": [
        "Вывод структуры модели"
      ]
    },
    {
      "cell_type": "code",
      "execution_count": 11,
      "metadata": {
        "colab": {
          "base_uri": "https://localhost:8080/",
          "height": 337
        },
        "id": "3XpohS2czXLE",
        "outputId": "545815a9-7092-45ec-d1a5-85ba4fabe8ad"
      },
      "outputs": [
        {
          "data": {
            "text/html": [
              "<pre style=\"white-space:pre;overflow-x:auto;line-height:normal;font-family:Menlo,'DejaVu Sans Mono',consolas,'Courier New',monospace\"><span style=\"font-weight: bold\">Model: \"sequential\"</span>\n",
              "</pre>\n"
            ],
            "text/plain": [
              "\u001b[1mModel: \"sequential\"\u001b[0m\n"
            ]
          },
          "metadata": {},
          "output_type": "display_data"
        },
        {
          "data": {
            "text/html": [
              "<pre style=\"white-space:pre;overflow-x:auto;line-height:normal;font-family:Menlo,'DejaVu Sans Mono',consolas,'Courier New',monospace\">┏━━━━━━━━━━━━━━━━━━━━━━━━━━━━━━━━━┳━━━━━━━━━━━━━━━━━━━━━━━━┳━━━━━━━━━━━━━━━┓\n",
              "┃<span style=\"font-weight: bold\"> Layer (type)                    </span>┃<span style=\"font-weight: bold\"> Output Shape           </span>┃<span style=\"font-weight: bold\">       Param # </span>┃\n",
              "┡━━━━━━━━━━━━━━━━━━━━━━━━━━━━━━━━━╇━━━━━━━━━━━━━━━━━━━━━━━━╇━━━━━━━━━━━━━━━┩\n",
              "│ vgg19 (<span style=\"color: #0087ff; text-decoration-color: #0087ff\">Functional</span>)              │ (<span style=\"color: #00d7ff; text-decoration-color: #00d7ff\">None</span>, <span style=\"color: #00af00; text-decoration-color: #00af00\">3</span>, <span style=\"color: #00af00; text-decoration-color: #00af00\">6</span>, <span style=\"color: #00af00; text-decoration-color: #00af00\">512</span>)      │    <span style=\"color: #00af00; text-decoration-color: #00af00\">20,024,384</span> │\n",
              "├─────────────────────────────────┼────────────────────────┼───────────────┤\n",
              "│ global_average_pooling2d        │ (<span style=\"color: #00d7ff; text-decoration-color: #00d7ff\">None</span>, <span style=\"color: #00af00; text-decoration-color: #00af00\">512</span>)            │             <span style=\"color: #00af00; text-decoration-color: #00af00\">0</span> │\n",
              "│ (<span style=\"color: #0087ff; text-decoration-color: #0087ff\">GlobalAveragePooling2D</span>)        │                        │               │\n",
              "├─────────────────────────────────┼────────────────────────┼───────────────┤\n",
              "│ dropout (<span style=\"color: #0087ff; text-decoration-color: #0087ff\">Dropout</span>)               │ (<span style=\"color: #00d7ff; text-decoration-color: #00d7ff\">None</span>, <span style=\"color: #00af00; text-decoration-color: #00af00\">512</span>)            │             <span style=\"color: #00af00; text-decoration-color: #00af00\">0</span> │\n",
              "├─────────────────────────────────┼────────────────────────┼───────────────┤\n",
              "│ dense (<span style=\"color: #0087ff; text-decoration-color: #0087ff\">Dense</span>)                   │ (<span style=\"color: #00d7ff; text-decoration-color: #00d7ff\">None</span>, <span style=\"color: #00af00; text-decoration-color: #00af00\">512</span>)            │       <span style=\"color: #00af00; text-decoration-color: #00af00\">262,656</span> │\n",
              "├─────────────────────────────────┼────────────────────────┼───────────────┤\n",
              "│ dropout_1 (<span style=\"color: #0087ff; text-decoration-color: #0087ff\">Dropout</span>)             │ (<span style=\"color: #00d7ff; text-decoration-color: #00d7ff\">None</span>, <span style=\"color: #00af00; text-decoration-color: #00af00\">512</span>)            │             <span style=\"color: #00af00; text-decoration-color: #00af00\">0</span> │\n",
              "├─────────────────────────────────┼────────────────────────┼───────────────┤\n",
              "│ dense_1 (<span style=\"color: #0087ff; text-decoration-color: #0087ff\">Dense</span>)                 │ (<span style=\"color: #00d7ff; text-decoration-color: #00d7ff\">None</span>, <span style=\"color: #00af00; text-decoration-color: #00af00\">3</span>)              │         <span style=\"color: #00af00; text-decoration-color: #00af00\">1,539</span> │\n",
              "└─────────────────────────────────┴────────────────────────┴───────────────┘\n",
              "</pre>\n"
            ],
            "text/plain": [
              "┏━━━━━━━━━━━━━━━━━━━━━━━━━━━━━━━━━┳━━━━━━━━━━━━━━━━━━━━━━━━┳━━━━━━━━━━━━━━━┓\n",
              "┃\u001b[1m \u001b[0m\u001b[1mLayer (type)                   \u001b[0m\u001b[1m \u001b[0m┃\u001b[1m \u001b[0m\u001b[1mOutput Shape          \u001b[0m\u001b[1m \u001b[0m┃\u001b[1m \u001b[0m\u001b[1m      Param #\u001b[0m\u001b[1m \u001b[0m┃\n",
              "┡━━━━━━━━━━━━━━━━━━━━━━━━━━━━━━━━━╇━━━━━━━━━━━━━━━━━━━━━━━━╇━━━━━━━━━━━━━━━┩\n",
              "│ vgg19 (\u001b[38;5;33mFunctional\u001b[0m)              │ (\u001b[38;5;45mNone\u001b[0m, \u001b[38;5;34m3\u001b[0m, \u001b[38;5;34m6\u001b[0m, \u001b[38;5;34m512\u001b[0m)      │    \u001b[38;5;34m20,024,384\u001b[0m │\n",
              "├─────────────────────────────────┼────────────────────────┼───────────────┤\n",
              "│ global_average_pooling2d        │ (\u001b[38;5;45mNone\u001b[0m, \u001b[38;5;34m512\u001b[0m)            │             \u001b[38;5;34m0\u001b[0m │\n",
              "│ (\u001b[38;5;33mGlobalAveragePooling2D\u001b[0m)        │                        │               │\n",
              "├─────────────────────────────────┼────────────────────────┼───────────────┤\n",
              "│ dropout (\u001b[38;5;33mDropout\u001b[0m)               │ (\u001b[38;5;45mNone\u001b[0m, \u001b[38;5;34m512\u001b[0m)            │             \u001b[38;5;34m0\u001b[0m │\n",
              "├─────────────────────────────────┼────────────────────────┼───────────────┤\n",
              "│ dense (\u001b[38;5;33mDense\u001b[0m)                   │ (\u001b[38;5;45mNone\u001b[0m, \u001b[38;5;34m512\u001b[0m)            │       \u001b[38;5;34m262,656\u001b[0m │\n",
              "├─────────────────────────────────┼────────────────────────┼───────────────┤\n",
              "│ dropout_1 (\u001b[38;5;33mDropout\u001b[0m)             │ (\u001b[38;5;45mNone\u001b[0m, \u001b[38;5;34m512\u001b[0m)            │             \u001b[38;5;34m0\u001b[0m │\n",
              "├─────────────────────────────────┼────────────────────────┼───────────────┤\n",
              "│ dense_1 (\u001b[38;5;33mDense\u001b[0m)                 │ (\u001b[38;5;45mNone\u001b[0m, \u001b[38;5;34m3\u001b[0m)              │         \u001b[38;5;34m1,539\u001b[0m │\n",
              "└─────────────────────────────────┴────────────────────────┴───────────────┘\n"
            ]
          },
          "metadata": {},
          "output_type": "display_data"
        },
        {
          "data": {
            "text/html": [
              "<pre style=\"white-space:pre;overflow-x:auto;line-height:normal;font-family:Menlo,'DejaVu Sans Mono',consolas,'Courier New',monospace\"><span style=\"font-weight: bold\"> Total params: </span><span style=\"color: #00af00; text-decoration-color: #00af00\">20,288,579</span> (77.39 MB)\n",
              "</pre>\n"
            ],
            "text/plain": [
              "\u001b[1m Total params: \u001b[0m\u001b[38;5;34m20,288,579\u001b[0m (77.39 MB)\n"
            ]
          },
          "metadata": {},
          "output_type": "display_data"
        },
        {
          "data": {
            "text/html": [
              "<pre style=\"white-space:pre;overflow-x:auto;line-height:normal;font-family:Menlo,'DejaVu Sans Mono',consolas,'Courier New',monospace\"><span style=\"font-weight: bold\"> Trainable params: </span><span style=\"color: #00af00; text-decoration-color: #00af00\">9,703,427</span> (37.02 MB)\n",
              "</pre>\n"
            ],
            "text/plain": [
              "\u001b[1m Trainable params: \u001b[0m\u001b[38;5;34m9,703,427\u001b[0m (37.02 MB)\n"
            ]
          },
          "metadata": {},
          "output_type": "display_data"
        },
        {
          "data": {
            "text/html": [
              "<pre style=\"white-space:pre;overflow-x:auto;line-height:normal;font-family:Menlo,'DejaVu Sans Mono',consolas,'Courier New',monospace\"><span style=\"font-weight: bold\"> Non-trainable params: </span><span style=\"color: #00af00; text-decoration-color: #00af00\">10,585,152</span> (40.38 MB)\n",
              "</pre>\n"
            ],
            "text/plain": [
              "\u001b[1m Non-trainable params: \u001b[0m\u001b[38;5;34m10,585,152\u001b[0m (40.38 MB)\n"
            ]
          },
          "metadata": {},
          "output_type": "display_data"
        }
      ],
      "source": [
        "model.summary()"
      ]
    },
    {
      "cell_type": "markdown",
      "metadata": {},
      "source": [
        "Обучение модели"
      ]
    },
    {
      "cell_type": "code",
      "execution_count": 9,
      "metadata": {
        "colab": {
          "base_uri": "https://localhost:8080/"
        },
        "id": "ipmgu7OPtEQZ",
        "outputId": "d5757ee9-bb08-48ec-dd08-da086271249d"
      },
      "outputs": [
        {
          "name": "stderr",
          "output_type": "stream",
          "text": [
            "/usr/local/lib/python3.11/dist-packages/keras/src/trainers/data_adapters/py_dataset_adapter.py:121: UserWarning: Your `PyDataset` class should call `super().__init__(**kwargs)` in its constructor. `**kwargs` can include `workers`, `use_multiprocessing`, `max_queue_size`. Do not pass these arguments to `fit()`, as they will be ignored.\n",
            "  self._warn_if_super_not_called()\n"
          ]
        },
        {
          "name": "stdout",
          "output_type": "stream",
          "text": [
            "Epoch 1/150\n",
            "\u001b[1m43/43\u001b[0m \u001b[32m━━━━━━━━━━━━━━━━━━━━\u001b[0m\u001b[37m\u001b[0m \u001b[1m61s\u001b[0m 1s/step - accuracy: 0.3567 - loss: 1.2974 - val_accuracy: 0.3431 - val_loss: 1.0887\n",
            "Epoch 2/150\n",
            "\u001b[1m43/43\u001b[0m \u001b[32m━━━━━━━━━━━━━━━━━━━━\u001b[0m\u001b[37m\u001b[0m \u001b[1m23s\u001b[0m 533ms/step - accuracy: 0.3516 - loss: 1.0959 - val_accuracy: 0.3548 - val_loss: 1.0620\n",
            "Epoch 3/150\n",
            "\u001b[1m43/43\u001b[0m \u001b[32m━━━━━━━━━━━━━━━━━━━━\u001b[0m\u001b[37m\u001b[0m \u001b[1m23s\u001b[0m 529ms/step - accuracy: 0.4111 - loss: 1.0666 - val_accuracy: 0.4956 - val_loss: 0.9408\n",
            "Epoch 4/150\n",
            "\u001b[1m43/43\u001b[0m \u001b[32m━━━━━━━━━━━━━━━━━━━━\u001b[0m\u001b[37m\u001b[0m \u001b[1m23s\u001b[0m 526ms/step - accuracy: 0.5097 - loss: 1.0143 - val_accuracy: 0.5806 - val_loss: 0.8768\n",
            "Epoch 5/150\n",
            "\u001b[1m43/43\u001b[0m \u001b[32m━━━━━━━━━━━━━━━━━━━━\u001b[0m\u001b[37m\u001b[0m \u001b[1m42s\u001b[0m 544ms/step - accuracy: 0.5817 - loss: 0.9437 - val_accuracy: 0.7889 - val_loss: 0.7773\n",
            "Epoch 6/150\n",
            "\u001b[1m43/43\u001b[0m \u001b[32m━━━━━━━━━━━━━━━━━━━━\u001b[0m\u001b[37m\u001b[0m \u001b[1m24s\u001b[0m 549ms/step - accuracy: 0.6479 - loss: 0.8710 - val_accuracy: 0.7977 - val_loss: 0.6355\n",
            "Epoch 7/150\n",
            "\u001b[1m43/43\u001b[0m \u001b[32m━━━━━━━━━━━━━━━━━━━━\u001b[0m\u001b[37m\u001b[0m \u001b[1m24s\u001b[0m 546ms/step - accuracy: 0.7235 - loss: 0.7401 - val_accuracy: 0.8651 - val_loss: 0.4935\n",
            "Epoch 8/150\n",
            "\u001b[1m43/43\u001b[0m \u001b[32m━━━━━━━━━━━━━━━━━━━━\u001b[0m\u001b[37m\u001b[0m \u001b[1m29s\u001b[0m 685ms/step - accuracy: 0.7677 - loss: 0.6415 - val_accuracy: 0.8592 - val_loss: 0.4505\n",
            "Epoch 9/150\n",
            "\u001b[1m43/43\u001b[0m \u001b[32m━━━━━━━━━━━━━━━━━━━━\u001b[0m\u001b[37m\u001b[0m \u001b[1m25s\u001b[0m 566ms/step - accuracy: 0.8001 - loss: 0.5338 - val_accuracy: 0.8328 - val_loss: 0.5172\n",
            "Epoch 10/150\n",
            "\u001b[1m43/43\u001b[0m \u001b[32m━━━━━━━━━━━━━━━━━━━━\u001b[0m\u001b[37m\u001b[0m \u001b[1m23s\u001b[0m 540ms/step - accuracy: 0.8025 - loss: 0.5574 - val_accuracy: 0.8856 - val_loss: 0.3394\n",
            "Epoch 11/150\n",
            "\u001b[1m43/43\u001b[0m \u001b[32m━━━━━━━━━━━━━━━━━━━━\u001b[0m\u001b[37m\u001b[0m \u001b[1m24s\u001b[0m 554ms/step - accuracy: 0.8321 - loss: 0.4710 - val_accuracy: 0.8856 - val_loss: 0.3253\n",
            "Epoch 12/150\n",
            "\u001b[1m43/43\u001b[0m \u001b[32m━━━━━━━━━━━━━━━━━━━━\u001b[0m\u001b[37m\u001b[0m \u001b[1m23s\u001b[0m 535ms/step - accuracy: 0.8471 - loss: 0.4282 - val_accuracy: 0.8798 - val_loss: 0.3626\n",
            "Epoch 13/150\n",
            "\u001b[1m43/43\u001b[0m \u001b[32m━━━━━━━━━━━━━━━━━━━━\u001b[0m\u001b[37m\u001b[0m \u001b[1m23s\u001b[0m 544ms/step - accuracy: 0.8606 - loss: 0.3854 - val_accuracy: 0.8856 - val_loss: 0.2748\n",
            "Epoch 14/150\n",
            "\u001b[1m43/43\u001b[0m \u001b[32m━━━━━━━━━━━━━━━━━━━━\u001b[0m\u001b[37m\u001b[0m \u001b[1m23s\u001b[0m 523ms/step - accuracy: 0.8722 - loss: 0.3539 - val_accuracy: 0.8856 - val_loss: 0.3030\n",
            "Epoch 15/150\n",
            "\u001b[1m43/43\u001b[0m \u001b[32m━━━━━━━━━━━━━━━━━━━━\u001b[0m\u001b[37m\u001b[0m \u001b[1m23s\u001b[0m 533ms/step - accuracy: 0.8795 - loss: 0.3354 - val_accuracy: 0.9032 - val_loss: 0.2538\n",
            "Epoch 16/150\n",
            "\u001b[1m43/43\u001b[0m \u001b[32m━━━━━━━━━━━━━━━━━━━━\u001b[0m\u001b[37m\u001b[0m \u001b[1m23s\u001b[0m 539ms/step - accuracy: 0.9054 - loss: 0.2834 - val_accuracy: 0.8475 - val_loss: 0.4038\n",
            "Epoch 17/150\n",
            "\u001b[1m43/43\u001b[0m \u001b[32m━━━━━━━━━━━━━━━━━━━━\u001b[0m\u001b[37m\u001b[0m \u001b[1m41s\u001b[0m 543ms/step - accuracy: 0.8799 - loss: 0.3270 - val_accuracy: 0.9032 - val_loss: 0.2529\n",
            "Epoch 18/150\n",
            "\u001b[1m43/43\u001b[0m \u001b[32m━━━━━━━━━━━━━━━━━━━━\u001b[0m\u001b[37m\u001b[0m \u001b[1m24s\u001b[0m 555ms/step - accuracy: 0.9076 - loss: 0.2680 - val_accuracy: 0.9120 - val_loss: 0.2410\n",
            "Epoch 19/150\n",
            "\u001b[1m43/43\u001b[0m \u001b[32m━━━━━━━━━━━━━━━━━━━━\u001b[0m\u001b[37m\u001b[0m \u001b[1m23s\u001b[0m 522ms/step - accuracy: 0.9053 - loss: 0.2741 - val_accuracy: 0.8856 - val_loss: 0.3023\n",
            "Epoch 20/150\n",
            "\u001b[1m43/43\u001b[0m \u001b[32m━━━━━━━━━━━━━━━━━━━━\u001b[0m\u001b[37m\u001b[0m \u001b[1m23s\u001b[0m 525ms/step - accuracy: 0.9178 - loss: 0.2486 - val_accuracy: 0.8944 - val_loss: 0.3092\n",
            "Epoch 21/150\n",
            "\u001b[1m43/43\u001b[0m \u001b[32m━━━━━━━━━━━━━━━━━━━━\u001b[0m\u001b[37m\u001b[0m \u001b[1m23s\u001b[0m 542ms/step - accuracy: 0.9027 - loss: 0.2671 - val_accuracy: 0.9091 - val_loss: 0.2278\n",
            "Epoch 22/150\n",
            "\u001b[1m43/43\u001b[0m \u001b[32m━━━━━━━━━━━━━━━━━━━━\u001b[0m\u001b[37m\u001b[0m \u001b[1m23s\u001b[0m 535ms/step - accuracy: 0.9220 - loss: 0.2121 - val_accuracy: 0.8944 - val_loss: 0.2717\n",
            "Epoch 23/150\n",
            "\u001b[1m43/43\u001b[0m \u001b[32m━━━━━━━━━━━━━━━━━━━━\u001b[0m\u001b[37m\u001b[0m \u001b[1m23s\u001b[0m 538ms/step - accuracy: 0.9312 - loss: 0.2085 - val_accuracy: 0.8798 - val_loss: 0.2777\n",
            "Epoch 24/150\n",
            "\u001b[1m43/43\u001b[0m \u001b[32m━━━━━━━━━━━━━━━━━━━━\u001b[0m\u001b[37m\u001b[0m \u001b[1m24s\u001b[0m 547ms/step - accuracy: 0.9319 - loss: 0.1997 - val_accuracy: 0.9120 - val_loss: 0.2950\n",
            "Epoch 25/150\n",
            "\u001b[1m43/43\u001b[0m \u001b[32m━━━━━━━━━━━━━━━━━━━━\u001b[0m\u001b[37m\u001b[0m \u001b[1m23s\u001b[0m 542ms/step - accuracy: 0.9111 - loss: 0.2302 - val_accuracy: 0.9267 - val_loss: 0.2061\n",
            "Epoch 26/150\n",
            "\u001b[1m43/43\u001b[0m \u001b[32m━━━━━━━━━━━━━━━━━━━━\u001b[0m\u001b[37m\u001b[0m \u001b[1m23s\u001b[0m 529ms/step - accuracy: 0.9300 - loss: 0.1930 - val_accuracy: 0.9179 - val_loss: 0.2124\n",
            "Epoch 27/150\n",
            "\u001b[1m43/43\u001b[0m \u001b[32m━━━━━━━━━━━━━━━━━━━━\u001b[0m\u001b[37m\u001b[0m \u001b[1m42s\u001b[0m 542ms/step - accuracy: 0.9402 - loss: 0.1770 - val_accuracy: 0.9208 - val_loss: 0.2381\n",
            "Epoch 28/150\n",
            "\u001b[1m43/43\u001b[0m \u001b[32m━━━━━━━━━━━━━━━━━━━━\u001b[0m\u001b[37m\u001b[0m \u001b[1m24s\u001b[0m 546ms/step - accuracy: 0.9547 - loss: 0.1272 - val_accuracy: 0.8886 - val_loss: 0.2840\n",
            "Epoch 29/150\n",
            "\u001b[1m43/43\u001b[0m \u001b[32m━━━━━━━━━━━━━━━━━━━━\u001b[0m\u001b[37m\u001b[0m \u001b[1m23s\u001b[0m 544ms/step - accuracy: 0.9538 - loss: 0.1248 - val_accuracy: 0.9150 - val_loss: 0.2558\n",
            "Epoch 30/150\n",
            "\u001b[1m43/43\u001b[0m \u001b[32m━━━━━━━━━━━━━━━━━━━━\u001b[0m\u001b[37m\u001b[0m \u001b[1m23s\u001b[0m 522ms/step - accuracy: 0.9483 - loss: 0.1523 - val_accuracy: 0.9091 - val_loss: 0.2965\n",
            "Epoch 31/150\n",
            "\u001b[1m43/43\u001b[0m \u001b[32m━━━━━━━━━━━━━━━━━━━━\u001b[0m\u001b[37m\u001b[0m \u001b[1m42s\u001b[0m 552ms/step - accuracy: 0.9295 - loss: 0.1800 - val_accuracy: 0.9267 - val_loss: 0.2385\n",
            "Epoch 32/150\n",
            "\u001b[1m43/43\u001b[0m \u001b[32m━━━━━━━━━━━━━━━━━━━━\u001b[0m\u001b[37m\u001b[0m \u001b[1m24s\u001b[0m 545ms/step - accuracy: 0.9583 - loss: 0.1361 - val_accuracy: 0.9238 - val_loss: 0.2185\n",
            "Epoch 33/150\n",
            "\u001b[1m43/43\u001b[0m \u001b[32m━━━━━━━━━━━━━━━━━━━━\u001b[0m\u001b[37m\u001b[0m \u001b[1m40s\u001b[0m 523ms/step - accuracy: 0.9496 - loss: 0.1428 - val_accuracy: 0.9150 - val_loss: 0.2849\n",
            "Epoch 34/150\n",
            "\u001b[1m43/43\u001b[0m \u001b[32m━━━━━━━━━━━━━━━━━━━━\u001b[0m\u001b[37m\u001b[0m \u001b[1m23s\u001b[0m 544ms/step - accuracy: 0.9616 - loss: 0.1147 - val_accuracy: 0.9208 - val_loss: 0.2112\n",
            "Epoch 35/150\n",
            "\u001b[1m43/43\u001b[0m \u001b[32m━━━━━━━━━━━━━━━━━━━━\u001b[0m\u001b[37m\u001b[0m \u001b[1m23s\u001b[0m 540ms/step - accuracy: 0.9625 - loss: 0.1026 - val_accuracy: 0.8974 - val_loss: 0.2641\n",
            "Epoch 36/150\n",
            "\u001b[1m43/43\u001b[0m \u001b[32m━━━━━━━━━━━━━━━━━━━━\u001b[0m\u001b[37m\u001b[0m \u001b[1m23s\u001b[0m 534ms/step - accuracy: 0.9518 - loss: 0.1264 - val_accuracy: 0.9120 - val_loss: 0.2557\n",
            "Epoch 37/150\n",
            "\u001b[1m43/43\u001b[0m \u001b[32m━━━━━━━━━━━━━━━━━━━━\u001b[0m\u001b[37m\u001b[0m \u001b[1m23s\u001b[0m 536ms/step - accuracy: 0.9525 - loss: 0.1256 - val_accuracy: 0.8651 - val_loss: 0.4085\n",
            "Epoch 38/150\n",
            "\u001b[1m43/43\u001b[0m \u001b[32m━━━━━━━━━━━━━━━━━━━━\u001b[0m\u001b[37m\u001b[0m \u001b[1m23s\u001b[0m 527ms/step - accuracy: 0.9521 - loss: 0.1359 - val_accuracy: 0.8974 - val_loss: 0.3326\n",
            "Epoch 39/150\n",
            "\u001b[1m43/43\u001b[0m \u001b[32m━━━━━━━━━━━━━━━━━━━━\u001b[0m\u001b[37m\u001b[0m \u001b[1m22s\u001b[0m 518ms/step - accuracy: 0.9419 - loss: 0.1868 - val_accuracy: 0.8944 - val_loss: 0.3080\n",
            "Epoch 40/150\n",
            "\u001b[1m43/43\u001b[0m \u001b[32m━━━━━━━━━━━━━━━━━━━━\u001b[0m\u001b[37m\u001b[0m \u001b[1m42s\u001b[0m 541ms/step - accuracy: 0.9788 - loss: 0.0818 - val_accuracy: 0.9384 - val_loss: 0.2295\n",
            "Epoch 41/150\n",
            "\u001b[1m43/43\u001b[0m \u001b[32m━━━━━━━━━━━━━━━━━━━━\u001b[0m\u001b[37m\u001b[0m \u001b[1m23s\u001b[0m 543ms/step - accuracy: 0.9709 - loss: 0.0828 - val_accuracy: 0.8974 - val_loss: 0.4533\n",
            "Epoch 42/150\n",
            "\u001b[1m43/43\u001b[0m \u001b[32m━━━━━━━━━━━━━━━━━━━━\u001b[0m\u001b[37m\u001b[0m \u001b[1m23s\u001b[0m 533ms/step - accuracy: 0.9644 - loss: 0.1090 - val_accuracy: 0.9091 - val_loss: 0.2573\n",
            "Epoch 43/150\n",
            "\u001b[1m43/43\u001b[0m \u001b[32m━━━━━━━━━━━━━━━━━━━━\u001b[0m\u001b[37m\u001b[0m \u001b[1m22s\u001b[0m 517ms/step - accuracy: 0.9647 - loss: 0.1006 - val_accuracy: 0.8827 - val_loss: 0.2955\n",
            "Epoch 44/150\n",
            "\u001b[1m43/43\u001b[0m \u001b[32m━━━━━━━━━━━━━━━━━━━━\u001b[0m\u001b[37m\u001b[0m \u001b[1m42s\u001b[0m 536ms/step - accuracy: 0.9754 - loss: 0.0752 - val_accuracy: 0.9296 - val_loss: 0.2658\n",
            "Epoch 45/150\n",
            "\u001b[1m43/43\u001b[0m \u001b[32m━━━━━━━━━━━━━━━━━━━━\u001b[0m\u001b[37m\u001b[0m \u001b[1m23s\u001b[0m 532ms/step - accuracy: 0.9714 - loss: 0.0811 - val_accuracy: 0.8974 - val_loss: 0.3064\n",
            "Epoch 46/150\n",
            "\u001b[1m43/43\u001b[0m \u001b[32m━━━━━━━━━━━━━━━━━━━━\u001b[0m\u001b[37m\u001b[0m \u001b[1m23s\u001b[0m 532ms/step - accuracy: 0.9740 - loss: 0.0726 - val_accuracy: 0.9208 - val_loss: 0.2257\n",
            "Epoch 47/150\n",
            "\u001b[1m43/43\u001b[0m \u001b[32m━━━━━━━━━━━━━━━━━━━━\u001b[0m\u001b[37m\u001b[0m \u001b[1m22s\u001b[0m 515ms/step - accuracy: 0.9722 - loss: 0.0860 - val_accuracy: 0.9208 - val_loss: 0.2776\n",
            "Epoch 48/150\n",
            "\u001b[1m43/43\u001b[0m \u001b[32m━━━━━━━━━━━━━━━━━━━━\u001b[0m\u001b[37m\u001b[0m \u001b[1m42s\u001b[0m 534ms/step - accuracy: 0.9668 - loss: 0.0911 - val_accuracy: 0.9150 - val_loss: 0.3729\n",
            "Epoch 49/150\n",
            "\u001b[1m43/43\u001b[0m \u001b[32m━━━━━━━━━━━━━━━━━━━━\u001b[0m\u001b[37m\u001b[0m \u001b[1m23s\u001b[0m 535ms/step - accuracy: 0.9749 - loss: 0.0584 - val_accuracy: 0.8768 - val_loss: 0.4612\n",
            "Epoch 50/150\n",
            "\u001b[1m43/43\u001b[0m \u001b[32m━━━━━━━━━━━━━━━━━━━━\u001b[0m\u001b[37m\u001b[0m \u001b[1m23s\u001b[0m 533ms/step - accuracy: 0.9764 - loss: 0.0729 - val_accuracy: 0.9238 - val_loss: 0.2996\n",
            "Epoch 51/150\n",
            "\u001b[1m43/43\u001b[0m \u001b[32m━━━━━━━━━━━━━━━━━━━━\u001b[0m\u001b[37m\u001b[0m \u001b[1m22s\u001b[0m 520ms/step - accuracy: 0.9820 - loss: 0.0563 - val_accuracy: 0.9062 - val_loss: 0.2975\n",
            "Epoch 52/150\n",
            "\u001b[1m43/43\u001b[0m \u001b[32m━━━━━━━━━━━━━━━━━━━━\u001b[0m\u001b[37m\u001b[0m \u001b[1m23s\u001b[0m 530ms/step - accuracy: 0.9777 - loss: 0.0578 - val_accuracy: 0.9326 - val_loss: 0.1968\n",
            "Epoch 53/150\n",
            "\u001b[1m43/43\u001b[0m \u001b[32m━━━━━━━━━━━━━━━━━━━━\u001b[0m\u001b[37m\u001b[0m \u001b[1m23s\u001b[0m 537ms/step - accuracy: 0.9823 - loss: 0.0566 - val_accuracy: 0.9238 - val_loss: 0.2913\n",
            "Epoch 54/150\n",
            "\u001b[1m43/43\u001b[0m \u001b[32m━━━━━━━━━━━━━━━━━━━━\u001b[0m\u001b[37m\u001b[0m \u001b[1m23s\u001b[0m 540ms/step - accuracy: 0.9796 - loss: 0.0612 - val_accuracy: 0.9179 - val_loss: 0.3065\n",
            "Epoch 55/150\n",
            "\u001b[1m43/43\u001b[0m \u001b[32m━━━━━━━━━━━━━━━━━━━━\u001b[0m\u001b[37m\u001b[0m \u001b[1m23s\u001b[0m 539ms/step - accuracy: 0.9804 - loss: 0.0591 - val_accuracy: 0.8798 - val_loss: 0.4823\n",
            "Epoch 56/150\n",
            "\u001b[1m43/43\u001b[0m \u001b[32m━━━━━━━━━━━━━━━━━━━━\u001b[0m\u001b[37m\u001b[0m \u001b[1m23s\u001b[0m 535ms/step - accuracy: 0.9760 - loss: 0.0735 - val_accuracy: 0.9267 - val_loss: 0.2127\n",
            "Epoch 57/150\n",
            "\u001b[1m43/43\u001b[0m \u001b[32m━━━━━━━━━━━━━━━━━━━━\u001b[0m\u001b[37m\u001b[0m \u001b[1m23s\u001b[0m 532ms/step - accuracy: 0.9822 - loss: 0.0506 - val_accuracy: 0.9032 - val_loss: 0.3722\n",
            "Epoch 58/150\n",
            "\u001b[1m43/43\u001b[0m \u001b[32m━━━━━━━━━━━━━━━━━━━━\u001b[0m\u001b[37m\u001b[0m \u001b[1m22s\u001b[0m 515ms/step - accuracy: 0.9672 - loss: 0.0794 - val_accuracy: 0.8710 - val_loss: 0.5505\n",
            "Epoch 59/150\n",
            "\u001b[1m43/43\u001b[0m \u001b[32m━━━━━━━━━━━━━━━━━━━━\u001b[0m\u001b[37m\u001b[0m \u001b[1m42s\u001b[0m 536ms/step - accuracy: 0.9814 - loss: 0.0600 - val_accuracy: 0.9120 - val_loss: 0.3439\n",
            "Epoch 60/150\n",
            "\u001b[1m43/43\u001b[0m \u001b[32m━━━━━━━━━━━━━━━━━━━━\u001b[0m\u001b[37m\u001b[0m \u001b[1m23s\u001b[0m 539ms/step - accuracy: 0.9788 - loss: 0.0699 - val_accuracy: 0.9208 - val_loss: 0.3211\n",
            "Epoch 61/150\n",
            "\u001b[1m43/43\u001b[0m \u001b[32m━━━━━━━━━━━━━━━━━━━━\u001b[0m\u001b[37m\u001b[0m \u001b[1m23s\u001b[0m 536ms/step - accuracy: 0.9806 - loss: 0.0523 - val_accuracy: 0.9179 - val_loss: 0.3669\n",
            "Epoch 62/150\n",
            "\u001b[1m43/43\u001b[0m \u001b[32m━━━━━━━━━━━━━━━━━━━━\u001b[0m\u001b[37m\u001b[0m \u001b[1m23s\u001b[0m 534ms/step - accuracy: 0.9825 - loss: 0.0579 - val_accuracy: 0.9120 - val_loss: 0.3442\n",
            "Epoch 63/150\n",
            "\u001b[1m43/43\u001b[0m \u001b[32m━━━━━━━━━━━━━━━━━━━━\u001b[0m\u001b[37m\u001b[0m \u001b[1m22s\u001b[0m 521ms/step - accuracy: 0.9826 - loss: 0.0475 - val_accuracy: 0.8886 - val_loss: 0.4518\n",
            "Epoch 64/150\n",
            "\u001b[1m43/43\u001b[0m \u001b[32m━━━━━━━━━━━━━━━━━━━━\u001b[0m\u001b[37m\u001b[0m \u001b[1m23s\u001b[0m 527ms/step - accuracy: 0.9830 - loss: 0.0486 - val_accuracy: 0.9413 - val_loss: 0.2259\n",
            "Epoch 65/150\n",
            "\u001b[1m43/43\u001b[0m \u001b[32m━━━━━━━━━━━━━━━━━━━━\u001b[0m\u001b[37m\u001b[0m \u001b[1m23s\u001b[0m 538ms/step - accuracy: 0.9868 - loss: 0.0408 - val_accuracy: 0.9267 - val_loss: 0.2814\n",
            "Epoch 66/150\n",
            "\u001b[1m43/43\u001b[0m \u001b[32m━━━━━━━━━━━━━━━━━━━━\u001b[0m\u001b[37m\u001b[0m \u001b[1m23s\u001b[0m 538ms/step - accuracy: 0.9767 - loss: 0.0644 - val_accuracy: 0.9238 - val_loss: 0.2649\n",
            "Epoch 67/150\n",
            "\u001b[1m43/43\u001b[0m \u001b[32m━━━━━━━━━━━━━━━━━━━━\u001b[0m\u001b[37m\u001b[0m \u001b[1m23s\u001b[0m 532ms/step - accuracy: 0.9860 - loss: 0.0440 - val_accuracy: 0.9296 - val_loss: 0.3337\n",
            "Epoch 68/150\n",
            "\u001b[1m43/43\u001b[0m \u001b[32m━━━━━━━━━━━━━━━━━━━━\u001b[0m\u001b[37m\u001b[0m \u001b[1m23s\u001b[0m 537ms/step - accuracy: 0.9857 - loss: 0.0424 - val_accuracy: 0.9443 - val_loss: 0.2610\n",
            "Epoch 69/150\n",
            "\u001b[1m43/43\u001b[0m \u001b[32m━━━━━━━━━━━━━━━━━━━━\u001b[0m\u001b[37m\u001b[0m \u001b[1m23s\u001b[0m 539ms/step - accuracy: 0.9870 - loss: 0.0375 - val_accuracy: 0.9267 - val_loss: 0.2980\n",
            "Epoch 70/150\n",
            "\u001b[1m43/43\u001b[0m \u001b[32m━━━━━━━━━━━━━━━━━━━━\u001b[0m\u001b[37m\u001b[0m \u001b[1m23s\u001b[0m 526ms/step - accuracy: 0.9864 - loss: 0.0367 - val_accuracy: 0.9208 - val_loss: 0.2677\n",
            "Epoch 71/150\n",
            "\u001b[1m43/43\u001b[0m \u001b[32m━━━━━━━━━━━━━━━━━━━━\u001b[0m\u001b[37m\u001b[0m \u001b[1m41s\u001b[0m 535ms/step - accuracy: 0.9856 - loss: 0.0462 - val_accuracy: 0.9296 - val_loss: 0.3090\n",
            "Epoch 72/150\n",
            "\u001b[1m43/43\u001b[0m \u001b[32m━━━━━━━━━━━━━━━━━━━━\u001b[0m\u001b[37m\u001b[0m \u001b[1m23s\u001b[0m 540ms/step - accuracy: 0.9898 - loss: 0.0319 - val_accuracy: 0.9120 - val_loss: 0.3318\n",
            "Epoch 73/150\n",
            "\u001b[1m43/43\u001b[0m \u001b[32m━━━━━━━━━━━━━━━━━━━━\u001b[0m\u001b[37m\u001b[0m \u001b[1m23s\u001b[0m 535ms/step - accuracy: 0.9920 - loss: 0.0315 - val_accuracy: 0.9208 - val_loss: 0.3508\n",
            "Epoch 74/150\n",
            "\u001b[1m43/43\u001b[0m \u001b[32m━━━━━━━━━━━━━━━━━━━━\u001b[0m\u001b[37m\u001b[0m \u001b[1m22s\u001b[0m 511ms/step - accuracy: 0.9848 - loss: 0.0377 - val_accuracy: 0.9296 - val_loss: 0.3236\n",
            "Epoch 75/150\n",
            "\u001b[1m43/43\u001b[0m \u001b[32m━━━━━━━━━━━━━━━━━━━━\u001b[0m\u001b[37m\u001b[0m \u001b[1m23s\u001b[0m 516ms/step - accuracy: 0.9911 - loss: 0.0330 - val_accuracy: 0.9472 - val_loss: 0.2570\n",
            "Epoch 76/150\n",
            "\u001b[1m43/43\u001b[0m \u001b[32m━━━━━━━━━━━━━━━━━━━━\u001b[0m\u001b[37m\u001b[0m \u001b[1m23s\u001b[0m 534ms/step - accuracy: 0.9869 - loss: 0.0390 - val_accuracy: 0.9296 - val_loss: 0.3125\n",
            "Epoch 77/150\n",
            "\u001b[1m43/43\u001b[0m \u001b[32m━━━━━━━━━━━━━━━━━━━━\u001b[0m\u001b[37m\u001b[0m \u001b[1m23s\u001b[0m 537ms/step - accuracy: 0.9888 - loss: 0.0338 - val_accuracy: 0.9384 - val_loss: 0.2638\n",
            "Epoch 78/150\n",
            "\u001b[1m43/43\u001b[0m \u001b[32m━━━━━━━━━━━━━━━━━━━━\u001b[0m\u001b[37m\u001b[0m \u001b[1m23s\u001b[0m 535ms/step - accuracy: 0.9884 - loss: 0.0374 - val_accuracy: 0.9384 - val_loss: 0.2440\n",
            "Epoch 79/150\n",
            "\u001b[1m43/43\u001b[0m \u001b[32m━━━━━━━━━━━━━━━━━━━━\u001b[0m\u001b[37m\u001b[0m \u001b[1m23s\u001b[0m 531ms/step - accuracy: 0.9862 - loss: 0.0380 - val_accuracy: 0.9208 - val_loss: 0.2749\n",
            "Epoch 80/150\n",
            "\u001b[1m43/43\u001b[0m \u001b[32m━━━━━━━━━━━━━━━━━━━━\u001b[0m\u001b[37m\u001b[0m \u001b[1m23s\u001b[0m 527ms/step - accuracy: 0.9922 - loss: 0.0300 - val_accuracy: 0.9384 - val_loss: 0.3229\n",
            "Epoch 81/150\n",
            "\u001b[1m43/43\u001b[0m \u001b[32m━━━━━━━━━━━━━━━━━━━━\u001b[0m\u001b[37m\u001b[0m \u001b[1m22s\u001b[0m 518ms/step - accuracy: 0.9905 - loss: 0.0345 - val_accuracy: 0.8944 - val_loss: 0.4429\n",
            "Epoch 82/150\n",
            "\u001b[1m43/43\u001b[0m \u001b[32m━━━━━━━━━━━━━━━━━━━━\u001b[0m\u001b[37m\u001b[0m \u001b[1m23s\u001b[0m 521ms/step - accuracy: 0.9918 - loss: 0.0341 - val_accuracy: 0.9384 - val_loss: 0.2319\n",
            "Epoch 83/150\n",
            "\u001b[1m43/43\u001b[0m \u001b[32m━━━━━━━━━━━━━━━━━━━━\u001b[0m\u001b[37m\u001b[0m \u001b[1m23s\u001b[0m 531ms/step - accuracy: 0.9880 - loss: 0.0398 - val_accuracy: 0.9179 - val_loss: 0.3414\n",
            "Epoch 84/150\n",
            "\u001b[1m43/43\u001b[0m \u001b[32m━━━━━━━━━━━━━━━━━━━━\u001b[0m\u001b[37m\u001b[0m \u001b[1m23s\u001b[0m 532ms/step - accuracy: 0.9917 - loss: 0.0262 - val_accuracy: 0.8974 - val_loss: 0.3794\n",
            "Epoch 85/150\n",
            "\u001b[1m43/43\u001b[0m \u001b[32m━━━━━━━━━━━━━━━━━━━━\u001b[0m\u001b[37m\u001b[0m \u001b[1m23s\u001b[0m 530ms/step - accuracy: 0.9737 - loss: 0.0867 - val_accuracy: 0.9355 - val_loss: 0.2423\n",
            "Epoch 86/150\n",
            "\u001b[1m43/43\u001b[0m \u001b[32m━━━━━━━━━━━━━━━━━━━━\u001b[0m\u001b[37m\u001b[0m \u001b[1m23s\u001b[0m 531ms/step - accuracy: 0.9868 - loss: 0.0390 - val_accuracy: 0.9208 - val_loss: 0.2899\n",
            "Epoch 87/150\n",
            "\u001b[1m43/43\u001b[0m \u001b[32m━━━━━━━━━━━━━━━━━━━━\u001b[0m\u001b[37m\u001b[0m \u001b[1m22s\u001b[0m 514ms/step - accuracy: 0.9840 - loss: 0.0512 - val_accuracy: 0.9501 - val_loss: 0.2147\n",
            "Epoch 88/150\n",
            "\u001b[1m43/43\u001b[0m \u001b[32m━━━━━━━━━━━━━━━━━━━━\u001b[0m\u001b[37m\u001b[0m \u001b[1m42s\u001b[0m 536ms/step - accuracy: 0.9908 - loss: 0.0308 - val_accuracy: 0.9355 - val_loss: 0.3041\n",
            "Epoch 89/150\n",
            "\u001b[1m43/43\u001b[0m \u001b[32m━━━━━━━━━━━━━━━━━━━━\u001b[0m\u001b[37m\u001b[0m \u001b[1m24s\u001b[0m 553ms/step - accuracy: 0.9852 - loss: 0.0387 - val_accuracy: 0.9384 - val_loss: 0.2680\n",
            "Epoch 90/150\n",
            "\u001b[1m43/43\u001b[0m \u001b[32m━━━━━━━━━━━━━━━━━━━━\u001b[0m\u001b[37m\u001b[0m \u001b[1m23s\u001b[0m 541ms/step - accuracy: 0.9900 - loss: 0.0292 - val_accuracy: 0.9355 - val_loss: 0.2494\n",
            "Epoch 91/150\n",
            "\u001b[1m43/43\u001b[0m \u001b[32m━━━━━━━━━━━━━━━━━━━━\u001b[0m\u001b[37m\u001b[0m \u001b[1m23s\u001b[0m 537ms/step - accuracy: 0.9933 - loss: 0.0194 - val_accuracy: 0.9267 - val_loss: 0.3140\n",
            "Epoch 92/150\n",
            "\u001b[1m43/43\u001b[0m \u001b[32m━━━━━━━━━━━━━━━━━━━━\u001b[0m\u001b[37m\u001b[0m \u001b[1m23s\u001b[0m 521ms/step - accuracy: 0.9929 - loss: 0.0280 - val_accuracy: 0.9150 - val_loss: 0.3666\n",
            "Epoch 93/150\n",
            "\u001b[1m43/43\u001b[0m \u001b[32m━━━━━━━━━━━━━━━━━━━━\u001b[0m\u001b[37m\u001b[0m \u001b[1m42s\u001b[0m 538ms/step - accuracy: 0.9888 - loss: 0.0307 - val_accuracy: 0.9267 - val_loss: 0.3145\n",
            "Epoch 94/150\n",
            "\u001b[1m43/43\u001b[0m \u001b[32m━━━━━━━━━━━━━━━━━━━━\u001b[0m\u001b[37m\u001b[0m \u001b[1m23s\u001b[0m 541ms/step - accuracy: 0.9920 - loss: 0.0270 - val_accuracy: 0.9326 - val_loss: 0.2875\n",
            "Epoch 95/150\n",
            "\u001b[1m43/43\u001b[0m \u001b[32m━━━━━━━━━━━━━━━━━━━━\u001b[0m\u001b[37m\u001b[0m \u001b[1m23s\u001b[0m 537ms/step - accuracy: 0.9933 - loss: 0.0159 - val_accuracy: 0.9355 - val_loss: 0.2472\n",
            "Epoch 96/150\n",
            "\u001b[1m43/43\u001b[0m \u001b[32m━━━━━━━━━━━━━━━━━━━━\u001b[0m\u001b[37m\u001b[0m \u001b[1m23s\u001b[0m 528ms/step - accuracy: 0.9915 - loss: 0.0227 - val_accuracy: 0.9443 - val_loss: 0.2798\n",
            "Epoch 97/150\n",
            "\u001b[1m43/43\u001b[0m \u001b[32m━━━━━━━━━━━━━━━━━━━━\u001b[0m\u001b[37m\u001b[0m \u001b[1m22s\u001b[0m 516ms/step - accuracy: 0.9904 - loss: 0.0346 - val_accuracy: 0.9326 - val_loss: 0.2242\n",
            "Epoch 98/150\n",
            "\u001b[1m43/43\u001b[0m \u001b[32m━━━━━━━━━━━━━━━━━━━━\u001b[0m\u001b[37m\u001b[0m \u001b[1m23s\u001b[0m 534ms/step - accuracy: 0.9897 - loss: 0.0295 - val_accuracy: 0.9003 - val_loss: 0.3650\n",
            "Epoch 99/150\n",
            "\u001b[1m43/43\u001b[0m \u001b[32m━━━━━━━━━━━━━━━━━━━━\u001b[0m\u001b[37m\u001b[0m \u001b[1m23s\u001b[0m 535ms/step - accuracy: 0.9964 - loss: 0.0163 - val_accuracy: 0.9472 - val_loss: 0.2353\n",
            "Epoch 100/150\n",
            "\u001b[1m43/43\u001b[0m \u001b[32m━━━━━━━━━━━━━━━━━━━━\u001b[0m\u001b[37m\u001b[0m \u001b[1m23s\u001b[0m 535ms/step - accuracy: 0.9916 - loss: 0.0256 - val_accuracy: 0.9413 - val_loss: 0.2335\n",
            "Epoch 101/150\n",
            "\u001b[1m43/43\u001b[0m \u001b[32m━━━━━━━━━━━━━━━━━━━━\u001b[0m\u001b[37m\u001b[0m \u001b[1m23s\u001b[0m 537ms/step - accuracy: 0.9935 - loss: 0.0229 - val_accuracy: 0.9355 - val_loss: 0.2630\n",
            "Epoch 102/150\n",
            "\u001b[1m43/43\u001b[0m \u001b[32m━━━━━━━━━━━━━━━━━━━━\u001b[0m\u001b[37m\u001b[0m \u001b[1m23s\u001b[0m 532ms/step - accuracy: 0.9943 - loss: 0.0201 - val_accuracy: 0.9355 - val_loss: 0.3363\n",
            "Epoch 103/150\n",
            "\u001b[1m43/43\u001b[0m \u001b[32m━━━━━━━━━━━━━━━━━━━━\u001b[0m\u001b[37m\u001b[0m \u001b[1m23s\u001b[0m 522ms/step - accuracy: 0.9948 - loss: 0.0169 - val_accuracy: 0.9384 - val_loss: 0.2603\n",
            "Epoch 104/150\n",
            "\u001b[1m43/43\u001b[0m \u001b[32m━━━━━━━━━━━━━━━━━━━━\u001b[0m\u001b[37m\u001b[0m \u001b[1m42s\u001b[0m 549ms/step - accuracy: 0.9899 - loss: 0.0254 - val_accuracy: 0.9501 - val_loss: 0.2719\n",
            "Epoch 105/150\n",
            "\u001b[1m43/43\u001b[0m \u001b[32m━━━━━━━━━━━━━━━━━━━━\u001b[0m\u001b[37m\u001b[0m \u001b[1m23s\u001b[0m 542ms/step - accuracy: 0.9930 - loss: 0.0214 - val_accuracy: 0.9355 - val_loss: 0.2796\n",
            "Epoch 106/150\n",
            "\u001b[1m43/43\u001b[0m \u001b[32m━━━━━━━━━━━━━━━━━━━━\u001b[0m\u001b[37m\u001b[0m \u001b[1m24s\u001b[0m 556ms/step - accuracy: 0.9935 - loss: 0.0205 - val_accuracy: 0.9355 - val_loss: 0.3322\n",
            "Epoch 107/150\n",
            "\u001b[1m43/43\u001b[0m \u001b[32m━━━━━━━━━━━━━━━━━━━━\u001b[0m\u001b[37m\u001b[0m \u001b[1m24s\u001b[0m 545ms/step - accuracy: 0.9893 - loss: 0.0318 - val_accuracy: 0.9032 - val_loss: 0.4025\n",
            "Epoch 108/150\n",
            "\u001b[1m43/43\u001b[0m \u001b[32m━━━━━━━━━━━━━━━━━━━━\u001b[0m\u001b[37m\u001b[0m \u001b[1m23s\u001b[0m 542ms/step - accuracy: 0.9924 - loss: 0.0280 - val_accuracy: 0.9355 - val_loss: 0.3321\n",
            "Epoch 109/150\n",
            "\u001b[1m43/43\u001b[0m \u001b[32m━━━━━━━━━━━━━━━━━━━━\u001b[0m\u001b[37m\u001b[0m \u001b[1m23s\u001b[0m 528ms/step - accuracy: 0.9943 - loss: 0.0235 - val_accuracy: 0.9120 - val_loss: 0.4761\n",
            "Epoch 110/150\n",
            "\u001b[1m43/43\u001b[0m \u001b[32m━━━━━━━━━━━━━━━━━━━━\u001b[0m\u001b[37m\u001b[0m \u001b[1m42s\u001b[0m 542ms/step - accuracy: 0.9914 - loss: 0.0240 - val_accuracy: 0.9296 - val_loss: 0.2889\n",
            "Epoch 111/150\n",
            "\u001b[1m43/43\u001b[0m \u001b[32m━━━━━━━━━━━━━━━━━━━━\u001b[0m\u001b[37m\u001b[0m \u001b[1m23s\u001b[0m 544ms/step - accuracy: 0.9928 - loss: 0.0268 - val_accuracy: 0.9326 - val_loss: 0.2964\n",
            "Epoch 112/150\n",
            "\u001b[1m43/43\u001b[0m \u001b[32m━━━━━━━━━━━━━━━━━━━━\u001b[0m\u001b[37m\u001b[0m \u001b[1m23s\u001b[0m 542ms/step - accuracy: 0.9836 - loss: 0.0452 - val_accuracy: 0.9296 - val_loss: 0.3449\n",
            "Epoch 113/150\n",
            "\u001b[1m43/43\u001b[0m \u001b[32m━━━━━━━━━━━━━━━━━━━━\u001b[0m\u001b[37m\u001b[0m \u001b[1m23s\u001b[0m 522ms/step - accuracy: 0.9920 - loss: 0.0218 - val_accuracy: 0.9296 - val_loss: 0.3256\n",
            "Epoch 114/150\n",
            "\u001b[1m43/43\u001b[0m \u001b[32m━━━━━━━━━━━━━━━━━━━━\u001b[0m\u001b[37m\u001b[0m \u001b[1m23s\u001b[0m 525ms/step - accuracy: 0.9964 - loss: 0.0097 - val_accuracy: 0.9296 - val_loss: 0.2953\n",
            "Epoch 115/150\n",
            "\u001b[1m43/43\u001b[0m \u001b[32m━━━━━━━━━━━━━━━━━━━━\u001b[0m\u001b[37m\u001b[0m \u001b[1m23s\u001b[0m 536ms/step - accuracy: 0.9968 - loss: 0.0105 - val_accuracy: 0.9472 - val_loss: 0.3132\n",
            "Epoch 116/150\n",
            "\u001b[1m43/43\u001b[0m \u001b[32m━━━━━━━━━━━━━━━━━━━━\u001b[0m\u001b[37m\u001b[0m \u001b[1m24s\u001b[0m 546ms/step - accuracy: 0.9958 - loss: 0.0120 - val_accuracy: 0.9267 - val_loss: 0.3256\n",
            "Epoch 117/150\n",
            "\u001b[1m43/43\u001b[0m \u001b[32m━━━━━━━━━━━━━━━━━━━━\u001b[0m\u001b[37m\u001b[0m \u001b[1m24s\u001b[0m 545ms/step - accuracy: 0.9923 - loss: 0.0201 - val_accuracy: 0.9267 - val_loss: 0.3592\n",
            "Epoch 118/150\n",
            "\u001b[1m43/43\u001b[0m \u001b[32m━━━━━━━━━━━━━━━━━━━━\u001b[0m\u001b[37m\u001b[0m \u001b[1m23s\u001b[0m 546ms/step - accuracy: 0.9950 - loss: 0.0151 - val_accuracy: 0.9472 - val_loss: 0.2748\n",
            "Epoch 119/150\n",
            "\u001b[1m43/43\u001b[0m \u001b[32m━━━━━━━━━━━━━━━━━━━━\u001b[0m\u001b[37m\u001b[0m \u001b[1m24s\u001b[0m 550ms/step - accuracy: 0.9945 - loss: 0.0147 - val_accuracy: 0.9413 - val_loss: 0.2868\n",
            "Epoch 120/150\n",
            "\u001b[1m43/43\u001b[0m \u001b[32m━━━━━━━━━━━━━━━━━━━━\u001b[0m\u001b[37m\u001b[0m \u001b[1m24s\u001b[0m 547ms/step - accuracy: 0.9972 - loss: 0.0089 - val_accuracy: 0.9413 - val_loss: 0.3311\n",
            "Epoch 121/150\n",
            "\u001b[1m43/43\u001b[0m \u001b[32m━━━━━━━━━━━━━━━━━━━━\u001b[0m\u001b[37m\u001b[0m \u001b[1m23s\u001b[0m 534ms/step - accuracy: 0.9926 - loss: 0.0203 - val_accuracy: 0.9355 - val_loss: 0.3333\n",
            "Epoch 122/150\n",
            "\u001b[1m43/43\u001b[0m \u001b[32m━━━━━━━━━━━━━━━━━━━━\u001b[0m\u001b[37m\u001b[0m \u001b[1m23s\u001b[0m 525ms/step - accuracy: 0.9891 - loss: 0.0353 - val_accuracy: 0.9531 - val_loss: 0.2382\n",
            "Epoch 123/150\n",
            "\u001b[1m43/43\u001b[0m \u001b[32m━━━━━━━━━━━━━━━━━━━━\u001b[0m\u001b[37m\u001b[0m \u001b[1m23s\u001b[0m 526ms/step - accuracy: 0.9953 - loss: 0.0156 - val_accuracy: 0.9326 - val_loss: 0.3693\n",
            "Epoch 124/150\n",
            "\u001b[1m43/43\u001b[0m \u001b[32m━━━━━━━━━━━━━━━━━━━━\u001b[0m\u001b[37m\u001b[0m \u001b[1m23s\u001b[0m 543ms/step - accuracy: 0.9949 - loss: 0.0147 - val_accuracy: 0.9150 - val_loss: 0.5507\n",
            "Epoch 125/150\n",
            "\u001b[1m43/43\u001b[0m \u001b[32m━━━━━━━━━━━━━━━━━━━━\u001b[0m\u001b[37m\u001b[0m \u001b[1m23s\u001b[0m 543ms/step - accuracy: 0.9898 - loss: 0.0368 - val_accuracy: 0.9326 - val_loss: 0.2917\n",
            "Epoch 126/150\n",
            "\u001b[1m43/43\u001b[0m \u001b[32m━━━━━━━━━━━━━━━━━━━━\u001b[0m\u001b[37m\u001b[0m \u001b[1m23s\u001b[0m 536ms/step - accuracy: 0.9954 - loss: 0.0146 - val_accuracy: 0.9384 - val_loss: 0.3365\n",
            "Epoch 127/150\n",
            "\u001b[1m43/43\u001b[0m \u001b[32m━━━━━━━━━━━━━━━━━━━━\u001b[0m\u001b[37m\u001b[0m \u001b[1m23s\u001b[0m 532ms/step - accuracy: 0.9979 - loss: 0.0063 - val_accuracy: 0.9413 - val_loss: 0.2915\n",
            "Epoch 128/150\n",
            "\u001b[1m43/43\u001b[0m \u001b[32m━━━━━━━━━━━━━━━━━━━━\u001b[0m\u001b[37m\u001b[0m \u001b[1m23s\u001b[0m 539ms/step - accuracy: 0.9935 - loss: 0.0176 - val_accuracy: 0.9208 - val_loss: 0.4474\n",
            "Epoch 129/150\n",
            "\u001b[1m43/43\u001b[0m \u001b[32m━━━━━━━━━━━━━━━━━━━━\u001b[0m\u001b[37m\u001b[0m \u001b[1m23s\u001b[0m 523ms/step - accuracy: 0.9937 - loss: 0.0143 - val_accuracy: 0.9296 - val_loss: 0.4109\n",
            "Epoch 130/150\n",
            "\u001b[1m43/43\u001b[0m \u001b[32m━━━━━━━━━━━━━━━━━━━━\u001b[0m\u001b[37m\u001b[0m \u001b[1m42s\u001b[0m 537ms/step - accuracy: 0.9953 - loss: 0.0220 - val_accuracy: 0.9443 - val_loss: 0.2454\n",
            "Epoch 131/150\n",
            "\u001b[1m43/43\u001b[0m \u001b[32m━━━━━━━━━━━━━━━━━━━━\u001b[0m\u001b[37m\u001b[0m \u001b[1m23s\u001b[0m 538ms/step - accuracy: 0.9957 - loss: 0.0185 - val_accuracy: 0.9238 - val_loss: 0.3326\n",
            "Epoch 132/150\n",
            "\u001b[1m43/43\u001b[0m \u001b[32m━━━━━━━━━━━━━━━━━━━━\u001b[0m\u001b[37m\u001b[0m \u001b[1m23s\u001b[0m 540ms/step - accuracy: 0.9955 - loss: 0.0116 - val_accuracy: 0.9443 - val_loss: 0.3026\n",
            "Epoch 133/150\n",
            "\u001b[1m43/43\u001b[0m \u001b[32m━━━━━━━━━━━━━━━━━━━━\u001b[0m\u001b[37m\u001b[0m \u001b[1m23s\u001b[0m 523ms/step - accuracy: 0.9941 - loss: 0.0105 - val_accuracy: 0.9355 - val_loss: 0.2579\n",
            "Epoch 134/150\n",
            "\u001b[1m43/43\u001b[0m \u001b[32m━━━━━━━━━━━━━━━━━━━━\u001b[0m\u001b[37m\u001b[0m \u001b[1m42s\u001b[0m 542ms/step - accuracy: 0.9962 - loss: 0.0102 - val_accuracy: 0.9208 - val_loss: 0.3349\n",
            "Epoch 135/150\n",
            "\u001b[1m43/43\u001b[0m \u001b[32m━━━━━━━━━━━━━━━━━━━━\u001b[0m\u001b[37m\u001b[0m \u001b[1m23s\u001b[0m 541ms/step - accuracy: 0.9972 - loss: 0.0087 - val_accuracy: 0.9443 - val_loss: 0.2611\n",
            "Epoch 136/150\n",
            "\u001b[1m43/43\u001b[0m \u001b[32m━━━━━━━━━━━━━━━━━━━━\u001b[0m\u001b[37m\u001b[0m \u001b[1m23s\u001b[0m 537ms/step - accuracy: 0.9936 - loss: 0.0207 - val_accuracy: 0.9472 - val_loss: 0.2701\n",
            "Epoch 137/150\n",
            "\u001b[1m43/43\u001b[0m \u001b[32m━━━━━━━━━━━━━━━━━━━━\u001b[0m\u001b[37m\u001b[0m \u001b[1m23s\u001b[0m 536ms/step - accuracy: 0.9967 - loss: 0.0104 - val_accuracy: 0.9443 - val_loss: 0.2940\n",
            "Epoch 138/150\n",
            "\u001b[1m43/43\u001b[0m \u001b[32m━━━━━━━━━━━━━━━━━━━━\u001b[0m\u001b[37m\u001b[0m \u001b[1m23s\u001b[0m 528ms/step - accuracy: 0.9948 - loss: 0.0150 - val_accuracy: 0.9443 - val_loss: 0.2232\n",
            "Epoch 139/150\n",
            "\u001b[1m43/43\u001b[0m \u001b[32m━━━━━━━━━━━━━━━━━━━━\u001b[0m\u001b[37m\u001b[0m \u001b[1m23s\u001b[0m 522ms/step - accuracy: 0.9983 - loss: 0.0069 - val_accuracy: 0.9384 - val_loss: 0.3442\n",
            "Epoch 140/150\n",
            "\u001b[1m43/43\u001b[0m \u001b[32m━━━━━━━━━━━━━━━━━━━━\u001b[0m\u001b[37m\u001b[0m \u001b[1m24s\u001b[0m 547ms/step - accuracy: 0.9960 - loss: 0.0196 - val_accuracy: 0.9443 - val_loss: 0.2667\n",
            "Epoch 141/150\n",
            "\u001b[1m43/43\u001b[0m \u001b[32m━━━━━━━━━━━━━━━━━━━━\u001b[0m\u001b[37m\u001b[0m \u001b[1m23s\u001b[0m 544ms/step - accuracy: 0.9941 - loss: 0.0184 - val_accuracy: 0.9091 - val_loss: 0.3886\n",
            "Epoch 142/150\n",
            "\u001b[1m43/43\u001b[0m \u001b[32m━━━━━━━━━━━━━━━━━━━━\u001b[0m\u001b[37m\u001b[0m \u001b[1m23s\u001b[0m 541ms/step - accuracy: 0.9968 - loss: 0.0133 - val_accuracy: 0.9413 - val_loss: 0.2884\n",
            "Epoch 143/150\n",
            "\u001b[1m43/43\u001b[0m \u001b[32m━━━━━━━━━━━━━━━━━━━━\u001b[0m\u001b[37m\u001b[0m \u001b[1m23s\u001b[0m 541ms/step - accuracy: 0.9885 - loss: 0.0349 - val_accuracy: 0.9208 - val_loss: 0.2663\n",
            "Epoch 144/150\n",
            "\u001b[1m43/43\u001b[0m \u001b[32m━━━━━━━━━━━━━━━━━━━━\u001b[0m\u001b[37m\u001b[0m \u001b[1m24s\u001b[0m 552ms/step - accuracy: 0.9901 - loss: 0.0265 - val_accuracy: 0.9384 - val_loss: 0.2677\n",
            "Epoch 145/150\n",
            "\u001b[1m43/43\u001b[0m \u001b[32m━━━━━━━━━━━━━━━━━━━━\u001b[0m\u001b[37m\u001b[0m \u001b[1m23s\u001b[0m 535ms/step - accuracy: 0.9922 - loss: 0.0273 - val_accuracy: 0.9355 - val_loss: 0.3276\n",
            "Epoch 146/150\n",
            "\u001b[1m43/43\u001b[0m \u001b[32m━━━━━━━━━━━━━━━━━━━━\u001b[0m\u001b[37m\u001b[0m \u001b[1m41s\u001b[0m 543ms/step - accuracy: 0.9959 - loss: 0.0126 - val_accuracy: 0.9384 - val_loss: 0.2866\n",
            "Epoch 147/150\n",
            "\u001b[1m43/43\u001b[0m \u001b[32m━━━━━━━━━━━━━━━━━━━━\u001b[0m\u001b[37m\u001b[0m \u001b[1m23s\u001b[0m 544ms/step - accuracy: 0.9973 - loss: 0.0069 - val_accuracy: 0.9413 - val_loss: 0.3325\n",
            "Epoch 148/150\n",
            "\u001b[1m43/43\u001b[0m \u001b[32m━━━━━━━━━━━━━━━━━━━━\u001b[0m\u001b[37m\u001b[0m \u001b[1m23s\u001b[0m 542ms/step - accuracy: 0.9961 - loss: 0.0096 - val_accuracy: 0.9267 - val_loss: 0.4095\n",
            "Epoch 149/150\n",
            "\u001b[1m43/43\u001b[0m \u001b[32m━━━━━━━━━━━━━━━━━━━━\u001b[0m\u001b[37m\u001b[0m \u001b[1m23s\u001b[0m 544ms/step - accuracy: 0.9918 - loss: 0.0225 - val_accuracy: 0.9384 - val_loss: 0.2662\n",
            "Epoch 150/150\n",
            "\u001b[1m43/43\u001b[0m \u001b[32m━━━━━━━━━━━━━━━━━━━━\u001b[0m\u001b[37m\u001b[0m \u001b[1m23s\u001b[0m 535ms/step - accuracy: 0.9915 - loss: 0.0242 - val_accuracy: 0.9296 - val_loss: 0.3093\n"
          ]
        }
      ],
      "source": [
        "# Автоматическое использование GPU\n",
        "with tf.device('/GPU:0'):\n",
        "\n",
        "    # Обучение\n",
        "    history = model.fit(\n",
        "        train_generator,\n",
        "        epochs=150,\n",
        "        validation_data=validation_generator,\n",
        "         verbose=1\n",
        "    )\n"
      ]
    },
    {
      "cell_type": "markdown",
      "metadata": {},
      "source": [
        "Визуализация обучения модели и вывод точности"
      ]
    },
    {
      "cell_type": "code",
      "execution_count": 11,
      "metadata": {
        "colab": {
          "base_uri": "https://localhost:8080/",
          "height": 541
        },
        "id": "SsenaXR7tEQb",
        "outputId": "d0aabdd1-a1e5-4e62-cda4-084bfbc1e926"
      },
      "outputs": [
        {
          "data": {
            "image/png": "[encoded data removed]",
            "text/plain": [
              "<Figure size 1500x500 with 2 Axes>"
            ]
          },
          "metadata": {},
          "output_type": "display_data"
        },
        {
          "name": "stdout",
          "output_type": "stream",
          "text": [
            "\u001b[1m6/6\u001b[0m \u001b[32m━━━━━━━━━━━━━━━━━━━━\u001b[0m\u001b[37m\u001b[0m \u001b[1m1s\u001b[0m 183ms/step - accuracy: 0.9350 - loss: 0.2993\n",
            "\n",
            "Validation Accuracy: 92.96%\n",
            "\u001b[1m6/6\u001b[0m \u001b[32m━━━━━━━━━━━━━━━━━━━━\u001b[0m\u001b[37m\u001b[0m \u001b[1m1s\u001b[0m 185ms/step\n"
          ]
        }
      ],
      "source": [
        "# Визуализация обучения\n",
        "plt.figure(figsize=(15,5))\n",
        "plt.subplot(121)\n",
        "plt.plot(history.history['accuracy'], label='Train Accuracy')\n",
        "plt.plot(history.history['val_accuracy'], label='Val Accuracy')\n",
        "plt.title('Accuracy')\n",
        "plt.legend()\n",
        "\n",
        "plt.subplot(122)\n",
        "plt.plot(history.history['loss'], label='Train Loss')\n",
        "plt.plot(history.history['val_loss'], label='Val Loss')\n",
        "plt.title('Loss')\n",
        "plt.legend()\n",
        "plt.show()\n",
        "\n",
        "# Оценка точности на валидационной выборке\n",
        "val_loss, val_acc = model.evaluate(validation_generator)\n",
        "print(f'\\nValidation Accuracy: {val_acc:.2%}')\n",
        "\n",
        "# Вывод матрицы ошибок\n",
        "y_true = validation_generator.classes\n",
        "y_pred = np.argmax(model.predict(validation_generator), axis=1)\n",
        "\n",
        "plt.show()"
      ]
    }
  ],
  "metadata": {
    "accelerator": "GPU",
    "colab": {
      "gpuType": "T4",
      "provenance": []
    },
    "kernelspec": {
      "display_name": "Python 3",
      "name": "python3"
    },
    "language_info": {
      "codemirror_mode": {
        "name": "ipython",
        "version": 3
      },
      "file_extension": ".py",
      "mimetype": "text/x-python",
      "name": "python",
      "nbconvert_exporter": "python",
      "pygments_lexer": "ipython3",
      "version": "3.11.11"
    }
  },
  "nbformat": 4,
  "nbformat_minor": 0
}
